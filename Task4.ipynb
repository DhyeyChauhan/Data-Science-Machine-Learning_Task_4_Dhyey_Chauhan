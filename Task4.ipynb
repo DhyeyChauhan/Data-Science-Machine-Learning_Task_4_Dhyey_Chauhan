{
 "cells": [
  {
   "cell_type": "code",
   "execution_count": 3,
   "id": "c68ac1f5-6833-4269-b163-a41e524e02eb",
   "metadata": {},
   "outputs": [
    {
     "name": "stdout",
     "output_type": "stream",
     "text": [
      "Accuracy using Filter (SelectKBest): 85.96%\n",
      "Accuracy using Wrapper (RFE): 95.61%\n",
      "Accuracy using Embedded (Random Forest): 95.61%\n"
     ]
    }
   ],
   "source": [
    "# Import libraries\n",
    "import pandas as pd\n",
    "import numpy as np\n",
    "from sklearn.model_selection import train_test_split\n",
    "from sklearn.feature_selection import SelectKBest, chi2, RFE\n",
    "from sklearn.ensemble import RandomForestClassifier\n",
    "from sklearn.linear_model import LogisticRegression\n",
    "from sklearn.metrics import accuracy_score\n",
    "from sklearn.preprocessing import StandardScaler, LabelEncoder\n",
    "\n",
    "# Load dataset\n",
    "# Update the dataset path as necessary\n",
    "dataset_path = \"breast-cancer.csv\"  # Replace with the correct file path\n",
    "data = pd.read_csv(dataset_path)\n",
    "\n",
    "# Encode target variable (Assuming 'diagnosis' is the target)\n",
    "le = LabelEncoder()\n",
    "data['diagnosis'] = le.fit_transform(data['diagnosis'])\n",
    "\n",
    "# Separate features and target\n",
    "X = data.drop(columns=['diagnosis'], axis=1)\n",
    "y = data['diagnosis']\n",
    "\n",
    "# Split into train and test sets\n",
    "X_train, X_test, y_train, y_test = train_test_split(X, y, test_size=0.2, random_state=42)\n",
    "\n",
    "# Standardize features\n",
    "scaler = StandardScaler()\n",
    "X_train = scaler.fit_transform(X_train)\n",
    "X_test = scaler.transform(X_test)\n",
    "\n",
    "# --------------------\n",
    "# Feature Selection\n",
    "# --------------------\n",
    "\n",
    "# 1. Filter Method: SelectKBest with Chi-Squared\n",
    "select_k_best = SelectKBest(score_func=chi2, k=10)\n",
    "X_train_kbest = select_k_best.fit_transform(np.abs(X_train), y_train)\n",
    "X_test_kbest = select_k_best.transform(np.abs(X_test))\n",
    "\n",
    "# 2. Wrapper Method: Recursive Feature Elimination (RFE)\n",
    "logistic_model = LogisticRegression(max_iter=500)\n",
    "rfe = RFE(estimator=logistic_model, n_features_to_select=10)\n",
    "X_train_rfe = rfe.fit_transform(X_train, y_train)\n",
    "X_test_rfe = rfe.transform(X_test)\n",
    "\n",
    "# 3. Embedded Method: Feature importance using Random Forest\n",
    "rf_model = RandomForestClassifier(random_state=42)\n",
    "rf_model.fit(X_train, y_train)\n",
    "importances = rf_model.feature_importances_\n",
    "\n",
    "# Select top 10 features based on importance\n",
    "top_features = np.argsort(importances)[-10:]\n",
    "X_train_embedded = X_train[:, top_features]\n",
    "X_test_embedded = X_test[:, top_features]\n",
    "\n",
    "# --------------------\n",
    "# Machine Learning Model\n",
    "# --------------------\n",
    "# Train and evaluate models for each feature selection method\n",
    "\n",
    "methods = {\n",
    "    \"Filter (SelectKBest)\": (X_train_kbest, X_test_kbest),\n",
    "    \"Wrapper (RFE)\": (X_train_rfe, X_test_rfe),\n",
    "    \"Embedded (Random Forest)\": (X_train_embedded, X_test_embedded)\n",
    "}\n",
    "\n",
    "for method, (X_train_fs, X_test_fs) in methods.items():\n",
    "    # Initialize Random Forest Classifier\n",
    "    model = RandomForestClassifier(random_state=42)\n",
    "    model.fit(X_train_fs, y_train)\n",
    "    \n",
    "    # Predict and calculate accuracy\n",
    "    y_pred = model.predict(X_test_fs)\n",
    "    accuracy = accuracy_score(y_test, y_pred)\n",
    "    print(f\"Accuracy using {method}: {accuracy * 100:.2f}%\")\n"
   ]
  },
  {
   "cell_type": "code",
   "execution_count": null,
   "id": "1efb373e-8e07-45e8-a295-e01790a5905a",
   "metadata": {},
   "outputs": [],
   "source": []
  }
 ],
 "metadata": {
  "kernelspec": {
   "display_name": "Python 3 (ipykernel)",
   "language": "python",
   "name": "python3"
  },
  "language_info": {
   "codemirror_mode": {
    "name": "ipython",
    "version": 3
   },
   "file_extension": ".py",
   "mimetype": "text/x-python",
   "name": "python",
   "nbconvert_exporter": "python",
   "pygments_lexer": "ipython3",
   "version": "3.12.4"
  }
 },
 "nbformat": 4,
 "nbformat_minor": 5
}
